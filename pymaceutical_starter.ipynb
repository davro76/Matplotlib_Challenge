{
 "cells": [
  {
   "cell_type": "code",
   "execution_count": 99,
   "metadata": {},
   "outputs": [
    {
     "data": {
      "image/png": "[encoded data removed]",
      "text/plain": [
       "<Figure size 720x360 with 1 Axes>"
      ]
     },
     "metadata": {
      "needs_background": "light"
     },
     "output_type": "display_data"
    },
    {
     "data": {
      "text/plain": [
       "1888"
      ]
     },
     "execution_count": 99,
     "metadata": {},
     "output_type": "execute_result"
    },
    {
     "data": {
      "text/plain": [
       "<Figure size 432x288 with 0 Axes>"
      ]
     },
     "metadata": {},
     "output_type": "display_data"
    }
   ],
   "source": [
    "# matplotlib homnework\n",
    "\n",
    "# Dependencies and Setup\n",
    "import matplotlib.pyplot as plt\n",
    "import pandas as pd\n",
    "import scipy.stats as st\n",
    "import numpy as np\n",
    "import statistics as sts\n",
    "import seaborn as sn \n",
    "\n",
    "# Study data files\n",
    "mouse_metadata_path = \"/Users/rodneydavermann/Desktop/Matplotlib_Challenge/data/Mouse_data.csv\"\n",
    "study_results_path = \"/Users/rodneydavermann/Desktop/Matplotlib_Challenge/data/Study_results.csv\"\n",
    "\n",
    "# Read the mouse data and the study results\n",
    "mouse_metadata = pd.read_csv(mouse_metadata_path)\n",
    "study_results = pd.read_csv(study_results_path)\n",
    "\n",
    "# Combine the data into a single dataset\n",
    "mouse_study_data_combine = pd.merge(mouse_metadata,study_results,how=\"inner\", on = \"Mouse ID\")\n",
    "\n",
    "# Display the data table for preview\n",
    "mouse_study_data_combine\n",
    "\n",
    "# Checking the number of mice.\n",
    "mice_number = len(mouse_study_data_combine[\"Mouse ID\"])\n",
    "mice_number\n",
    "\n",
    "# Getting the duplicate mice by ID number that shows up for Mouse ID and Timepoint. \n",
    "mice_duplicate_ID_Timepoint = mouse_study_data_combine[mouse_study_data_combine.duplicated([\"Mouse ID\", \"Timepoint\"])]\n",
    "mice_duplicate_ID_Timepoint\n",
    "\n",
    "# Optional: Get all the data for the duplicate mouse ID. \n",
    "mice_duplicate_ID = mouse_study_data_combine[mouse_study_data_combine.duplicated([\"Mouse ID\",])]\n",
    "mice_duplicate_ID       \n",
    "\n",
    "# Create a clean DataFrame by dropping the duplicate mouse by its ID.\n",
    "tiny_mouse_study_data = mouse_study_data_combine.drop_duplicates(subset = [\"Mouse ID\", \"Timepoint\"])\n",
    "tiny_mouse_study_data\n",
    "\n",
    "# Checking the number of mice in the clean DataFrame.\n",
    "new_mice_number = len(tiny_mouse_study_data[\"Mouse ID\"])\n",
    "new_mice_number\n",
    "\n",
    "#Summary Statistics\n",
    "\n",
    "# Generate a summary statistics table of mean, median, variance, standard deviation, and SEM of the tumor volume  with the raw data\n",
    "summary_statistics_describe = tiny_mouse_study_data[\"Tumor Volume (mm3)\"].describe() \n",
    "summary_statistics_describe\n",
    "\n",
    "# Use groupby and summary statistical methods to calculate the following properties of each drug regimen: \n",
    "tumor_volume_average = tiny_mouse_study_data.groupby(\"Drug Regimen\")['Tumor Volume (mm3)'].mean()\n",
    "tumor_volume_median = tiny_mouse_study_data.groupby(\"Drug Regimen\")['Tumor Volume (mm3)'].median()\n",
    "tumor_volume_variance = tiny_mouse_study_data.groupby(\"Drug Regimen\")['Tumor Volume (mm3)'].var()\n",
    "tumor_volume_standard = tiny_mouse_study_data.groupby(\"Drug Regimen\")['Tumor Volume (mm3)'].std()\n",
    "tumor_volume_sem = tiny_mouse_study_data.groupby(\"Drug Regimen\")['Tumor Volume (mm3)'].sem()\n",
    "\n",
    "summary_statistics_groupby = pd.DataFrame({\"Mean\":tumor_volume_average , \"Median\": tumor_volume_median,\n",
    "                                            \"Variance\": tumor_volume_variance, \n",
    "                                            \"Standard Deviation\": tumor_volume_standard, \"SEM\": tumor_volume_sem})\n",
    "\n",
    "summary_statistics_groupby\n",
    "\n",
    "# Using the aggregation method, produce the same summary statistics in a single line\n",
    "tumor_volume_summary_aggregate = tiny_mouse_study_data.agg({\"Tumor Volume (mm3)\": [\"mean\", \"median\", \"std\", \"sem\"]})\n",
    "tumor_volume_summary_aggregate\n",
    "\n",
    "  #Bar and Pie Charts\n",
    "    \n",
    "# Generate a bar plot showing the total number of measurements taken on each drug regimen using pandas.\n",
    "barplot_data = pd.DataFrame(tiny_mouse_study_data.groupby([\"Drug Regimen\"]).count()).reset_index()\n",
    "barplot_data = barplot_data.sort_values(by=\"Mouse ID\", ascending=False) \n",
    "barplot_data = barplot_data[[\"Drug Regimen\", \"Mouse ID\"]]\n",
    "barplot_data = barplot_data.set_index(\"Drug Regimen\")\n",
    "barplot_data.plot(kind=\"bar\", figsize=(10,5))\n",
    "plt.title(\"Drug Treatment Count\")\n",
    "plt.ylabel(\"Number of unique mice tested\")\n",
    "plt.show()\n",
    "plt.tight_layout()\n",
    "\n",
    "\n",
    "# Generate a bar plot showing the total number of measurements taken on each drug regimen using pyplot.\n",
    "\n",
    "# define x and y axis\n",
    "drug_regimen = summary_statistics_groupby[\"Drug Regimen\"].tolist()\n",
    "count_id = tiny_mouse_study_data[\"Mouse ID\"].count()\n",
    "count_id\n",
    "\n",
    "# Generate a pie plot showing the distribution of female versus male mice using pandas\n",
    "\n",
    "# Generate a pie plot showing the distribution of female versus male mice using pyplot\n",
    "\n",
    "  #Quartiles, Outliers and Boxplots\n",
    "# Calculate the final tumor volume of each mouse across four of the treatment regimens:  \n",
    "# Capomulin, Ramicane, Infubinol, and Ceftamin\n",
    "\n",
    "# Start by getting the last (greatest) timepoint for each mouse\n",
    "\n",
    "\n",
    "# Merge this group df with the original dataframe to get the tumor volume at the last timepoint\n",
    "# Put treatments into a list for for loop (and later for plot labels)\n",
    "\n",
    "\n",
    "# Create empty list to fill with tumor vol data (for plotting)\n",
    "\n",
    "\n",
    "# Calculate the IQR and quantitatively determine if there are any potential outliers. \n",
    "\n",
    "    \n",
    "# Locate the rows which contain mice on each drug and get the tumor volumes\n",
    "    \n",
    "    \n",
    "# add subset \n",
    "    \n",
    "    \n",
    "# Determine outliers using upper and lower bounds\n",
    "# Generate a box plot of the final tumor volume of each mouse across four regimens of interest\n",
    "  #Line and Scatter Plots\n",
    "# Generate a line plot of tumor volume vs. time point for a mouse treated with Capomulin\n",
    "# Generate a scatter plot of average tumor volume vs. mouse weight for the Capomulin regimen\n",
    "  #Correlation and Regression\n",
    "# Calculate the correlation coefficient and linear regression model \n",
    "# for mouse weight and average tumor volume for the Capomulin regimen"
   ]
  },
  {
   "cell_type": "code",
   "execution_count": 106,
   "metadata": {},
   "outputs": [
    {
     "data": {
      "text/plain": [
       "0       Ramicane\n",
       "1       Ramicane\n",
       "2       Ramicane\n",
       "3       Ramicane\n",
       "4       Ramicane\n",
       "          ...   \n",
       "1888    Naftisol\n",
       "1889    Naftisol\n",
       "1890    Naftisol\n",
       "1891    Naftisol\n",
       "1892    Naftisol\n",
       "Name: Drug Regimen, Length: 1888, dtype: object"
      ]
     },
     "execution_count": 106,
     "metadata": {},
     "output_type": "execute_result"
    }
   ],
   "source": [
    "drug_regimen"
   ]
  },
  {
   "cell_type": "code",
   "execution_count": null,
   "metadata": {},
   "outputs": [],
   "source": []
  }
 ],
 "metadata": {
  "kernelspec": {
   "display_name": "Python 3",
   "language": "python",
   "name": "python3"
  },
  "language_info": {
   "codemirror_mode": {
    "name": "ipython",
    "version": 3
   },
   "file_extension": ".py",
   "mimetype": "text/x-python",
   "name": "python",
   "nbconvert_exporter": "python",
   "pygments_lexer": "ipython3",
   "version": "3.8.5"
  }
 },
 "nbformat": 4,
 "nbformat_minor": 4
}
